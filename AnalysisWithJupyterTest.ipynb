{
 "cells": [
  {
   "cell_type": "code",
   "execution_count": 1,
   "metadata": {},
   "outputs": [
    {
     "name": "stdout",
     "output_type": "stream",
     "text": [
      "Requirement already satisfied: seaborn in c:\\users\\ahmed gharib\\appdata\\local\\anaconda\\lib\\site-packages (0.10.1)\n",
      "Requirement already satisfied: matplotlib>=2.1.2 in c:\\users\\ahmed gharib\\appdata\\local\\anaconda\\lib\\site-packages (from seaborn) (3.1.3)\n",
      "Requirement already satisfied: pandas>=0.22.0 in c:\\users\\ahmed gharib\\appdata\\local\\anaconda\\lib\\site-packages (from seaborn) (1.0.3)\n",
      "Requirement already satisfied: scipy>=1.0.1 in c:\\users\\ahmed gharib\\appdata\\local\\anaconda\\lib\\site-packages (from seaborn) (1.4.1)\n",
      "Requirement already satisfied: numpy>=1.13.3 in c:\\users\\ahmed gharib\\appdata\\local\\anaconda\\lib\\site-packages (from seaborn) (1.18.1)\n",
      "Requirement already satisfied: pyparsing!=2.0.4,!=2.1.2,!=2.1.6,>=2.0.1 in c:\\users\\ahmed gharib\\appdata\\local\\anaconda\\lib\\site-packages (from matplotlib>=2.1.2->seaborn) (2.4.7)\n",
      "Requirement already satisfied: kiwisolver>=1.0.1 in c:\\users\\ahmed gharib\\appdata\\local\\anaconda\\lib\\site-packages (from matplotlib>=2.1.2->seaborn) (1.2.0)\n",
      "Requirement already satisfied: python-dateutil>=2.1 in c:\\users\\ahmed gharib\\appdata\\local\\anaconda\\lib\\site-packages (from matplotlib>=2.1.2->seaborn) (2.8.1)\n",
      "Requirement already satisfied: cycler>=0.10 in c:\\users\\ahmed gharib\\appdata\\local\\anaconda\\lib\\site-packages (from matplotlib>=2.1.2->seaborn) (0.10.0)\n",
      "Requirement already satisfied: pytz>=2017.2 in c:\\users\\ahmed gharib\\appdata\\local\\anaconda\\lib\\site-packages (from pandas>=0.22.0->seaborn) (2020.1)\n",
      "Requirement already satisfied: six>=1.5 in c:\\users\\ahmed gharib\\appdata\\local\\anaconda\\lib\\site-packages (from python-dateutil>=2.1->matplotlib>=2.1.2->seaborn) (1.14.0)\n"
     ]
    }
   ],
   "source": [
    "!pip install seaborn"
   ]
  },
  {
   "cell_type": "code",
   "execution_count": 2,
   "metadata": {},
   "outputs": [
    {
     "name": "stdout",
     "output_type": "stream",
     "text": [
      "Requirement already satisfied: scikit-learn in c:\\users\\ahmed gharib\\appdata\\local\\anaconda\\lib\\site-packages (0.22.1)\n",
      "Requirement already satisfied: scipy>=0.17.0 in c:\\users\\ahmed gharib\\appdata\\local\\anaconda\\lib\\site-packages (from scikit-learn) (1.4.1)\n",
      "Requirement already satisfied: numpy>=1.11.0 in c:\\users\\ahmed gharib\\appdata\\local\\anaconda\\lib\\site-packages (from scikit-learn) (1.18.1)\n",
      "Requirement already satisfied: joblib>=0.11 in c:\\users\\ahmed gharib\\appdata\\local\\anaconda\\lib\\site-packages (from scikit-learn) (0.14.1)\n"
     ]
    }
   ],
   "source": [
    "!pip install scikit-learn"
   ]
  },
  {
   "cell_type": "code",
   "execution_count": 3,
   "metadata": {},
   "outputs": [],
   "source": [
    "import pandas as pd \n",
    "import numpy as np \n",
    "import matplotlib.pyplot as plt\n",
    "import seaborn as sns"
   ]
  },
  {
   "cell_type": "code",
   "execution_count": 4,
   "metadata": {},
   "outputs": [
    {
     "data": {
      "text/html": [
       "<div>\n",
       "<style scoped>\n",
       "    .dataframe tbody tr th:only-of-type {\n",
       "        vertical-align: middle;\n",
       "    }\n",
       "\n",
       "    .dataframe tbody tr th {\n",
       "        vertical-align: top;\n",
       "    }\n",
       "\n",
       "    .dataframe thead th {\n",
       "        text-align: right;\n",
       "    }\n",
       "</style>\n",
       "<table border=\"1\" class=\"dataframe\">\n",
       "  <thead>\n",
       "    <tr style=\"text-align: right;\">\n",
       "      <th></th>\n",
       "      <th>Code</th>\n",
       "      <th>Name</th>\n",
       "      <th>Brand</th>\n",
       "      <th>Branch</th>\n",
       "      <th>Amount</th>\n",
       "      <th>Quantity</th>\n",
       "    </tr>\n",
       "  </thead>\n",
       "  <tbody>\n",
       "    <tr>\n",
       "      <th>0</th>\n",
       "      <td>603</td>\n",
       "      <td>عمرو احمد محمود</td>\n",
       "      <td>Samsung</td>\n",
       "      <td>Abdel Aziz</td>\n",
       "      <td>938220</td>\n",
       "      <td>287</td>\n",
       "    </tr>\n",
       "    <tr>\n",
       "      <th>1</th>\n",
       "      <td>853</td>\n",
       "      <td>نادر صفى الدين - عبدا</td>\n",
       "      <td>Samsung</td>\n",
       "      <td>Abdel Aziz</td>\n",
       "      <td>69875620</td>\n",
       "      <td>22861</td>\n",
       "    </tr>\n",
       "    <tr>\n",
       "      <th>2</th>\n",
       "      <td>84</td>\n",
       "      <td>عمرو حسين</td>\n",
       "      <td>Mi</td>\n",
       "      <td>Abdel Aziz</td>\n",
       "      <td>13629849</td>\n",
       "      <td>4469</td>\n",
       "    </tr>\n",
       "    <tr>\n",
       "      <th>3</th>\n",
       "      <td>152</td>\n",
       "      <td>محمود محمد</td>\n",
       "      <td>Mi</td>\n",
       "      <td>Abdel Aziz</td>\n",
       "      <td>12338315</td>\n",
       "      <td>3790</td>\n",
       "    </tr>\n",
       "    <tr>\n",
       "      <th>4</th>\n",
       "      <td>291</td>\n",
       "      <td>ابراهيم نوح عبد المجي</td>\n",
       "      <td>Mi</td>\n",
       "      <td>Abdel Aziz</td>\n",
       "      <td>19520449</td>\n",
       "      <td>6876</td>\n",
       "    </tr>\n",
       "  </tbody>\n",
       "</table>\n",
       "</div>"
      ],
      "text/plain": [
       "   Code                     Name    Brand      Branch    Amount  Quantity\n",
       "0   603          عمرو احمد محمود  Samsung  Abdel Aziz    938220       287\n",
       "1   853    نادر صفى الدين - عبدا  Samsung  Abdel Aziz  69875620     22861\n",
       "2    84                عمرو حسين       Mi  Abdel Aziz  13629849      4469\n",
       "3   152               محمود محمد       Mi  Abdel Aziz  12338315      3790\n",
       "4   291    ابراهيم نوح عبد المجي       Mi  Abdel Aziz  19520449      6876"
      ]
     },
     "execution_count": 4,
     "metadata": {},
     "output_type": "execute_result"
    }
   ],
   "source": [
    "sales = pd.read_csv('sales.csv')\n",
    "sales.head()"
   ]
  },
  {
   "cell_type": "code",
   "execution_count": 5,
   "metadata": {},
   "outputs": [
    {
     "data": {
      "text/plain": [
       "(225, 6)"
      ]
     },
     "execution_count": 5,
     "metadata": {},
     "output_type": "execute_result"
    }
   ],
   "source": [
    "sales.shape"
   ]
  },
  {
   "cell_type": "code",
   "execution_count": 6,
   "metadata": {},
   "outputs": [
    {
     "data": {
      "text/html": [
       "<div>\n",
       "<style scoped>\n",
       "    .dataframe tbody tr th:only-of-type {\n",
       "        vertical-align: middle;\n",
       "    }\n",
       "\n",
       "    .dataframe tbody tr th {\n",
       "        vertical-align: top;\n",
       "    }\n",
       "\n",
       "    .dataframe thead th {\n",
       "        text-align: right;\n",
       "    }\n",
       "</style>\n",
       "<table border=\"1\" class=\"dataframe\">\n",
       "  <thead>\n",
       "    <tr style=\"text-align: right;\">\n",
       "      <th></th>\n",
       "      <th>Code</th>\n",
       "      <th>Name</th>\n",
       "      <th>Brand</th>\n",
       "      <th>Branch</th>\n",
       "      <th>Amount</th>\n",
       "      <th>Quantity</th>\n",
       "    </tr>\n",
       "  </thead>\n",
       "  <tbody>\n",
       "    <tr>\n",
       "      <th>12</th>\n",
       "      <td>829</td>\n",
       "      <td>محمود اشرف عبدالصمد -</td>\n",
       "      <td>Tecno</td>\n",
       "      <td>Assyut</td>\n",
       "      <td>82115</td>\n",
       "      <td>76</td>\n",
       "    </tr>\n",
       "    <tr>\n",
       "      <th>50</th>\n",
       "      <td>456</td>\n",
       "      <td>عبد الله محمد محمود</td>\n",
       "      <td>Samsung</td>\n",
       "      <td>Bani Swif</td>\n",
       "      <td>262055</td>\n",
       "      <td>97</td>\n",
       "    </tr>\n",
       "    <tr>\n",
       "      <th>11</th>\n",
       "      <td>738</td>\n",
       "      <td>محمد عبد الرازق محمد</td>\n",
       "      <td>Mi</td>\n",
       "      <td>Assyut</td>\n",
       "      <td>2164331</td>\n",
       "      <td>708</td>\n",
       "    </tr>\n",
       "    <tr>\n",
       "      <th>179</th>\n",
       "      <td>851</td>\n",
       "      <td>مؤمن محمد سليم مصطفى-</td>\n",
       "      <td>Tecno</td>\n",
       "      <td>Qena</td>\n",
       "      <td>44065</td>\n",
       "      <td>40</td>\n",
       "    </tr>\n",
       "    <tr>\n",
       "      <th>74</th>\n",
       "      <td>843</td>\n",
       "      <td>حسام السيد محمد كمال</td>\n",
       "      <td>Samsung</td>\n",
       "      <td>Behira</td>\n",
       "      <td>247240</td>\n",
       "      <td>66</td>\n",
       "    </tr>\n",
       "    <tr>\n",
       "      <th>80</th>\n",
       "      <td>825</td>\n",
       "      <td>احمد حمدى محمد عسكر-ا</td>\n",
       "      <td>Tecno</td>\n",
       "      <td>Giza</td>\n",
       "      <td>253635</td>\n",
       "      <td>670</td>\n",
       "    </tr>\n",
       "    <tr>\n",
       "      <th>84</th>\n",
       "      <td>798</td>\n",
       "      <td>مصطفى زينهم علي احمد</td>\n",
       "      <td>Mi</td>\n",
       "      <td>Giza</td>\n",
       "      <td>2544305</td>\n",
       "      <td>903</td>\n",
       "    </tr>\n",
       "    <tr>\n",
       "      <th>130</th>\n",
       "      <td>724</td>\n",
       "      <td>احمد مصطفي نظيم</td>\n",
       "      <td>Mi</td>\n",
       "      <td>Ismailia</td>\n",
       "      <td>2302769</td>\n",
       "      <td>760</td>\n",
       "    </tr>\n",
       "    <tr>\n",
       "      <th>186</th>\n",
       "      <td>655</td>\n",
       "      <td>محمود احمد يوسف</td>\n",
       "      <td>Mi</td>\n",
       "      <td>Smoha</td>\n",
       "      <td>1126729</td>\n",
       "      <td>394</td>\n",
       "    </tr>\n",
       "    <tr>\n",
       "      <th>58</th>\n",
       "      <td>836</td>\n",
       "      <td>محمد ممدوح عبدالرحمن-</td>\n",
       "      <td>Tecno</td>\n",
       "      <td>Bani Swif</td>\n",
       "      <td>50005</td>\n",
       "      <td>129</td>\n",
       "    </tr>\n",
       "  </tbody>\n",
       "</table>\n",
       "</div>"
      ],
      "text/plain": [
       "     Code                     Name    Brand     Branch   Amount  Quantity\n",
       "12    829    محمود اشرف عبدالصمد -    Tecno     Assyut    82115        76\n",
       "50    456      عبد الله محمد محمود  Samsung  Bani Swif   262055        97\n",
       "11    738     محمد عبد الرازق محمد       Mi     Assyut  2164331       708\n",
       "179   851    مؤمن محمد سليم مصطفى-    Tecno       Qena    44065        40\n",
       "74    843     حسام السيد محمد كمال  Samsung     Behira   247240        66\n",
       "80    825    احمد حمدى محمد عسكر-ا    Tecno       Giza   253635       670\n",
       "84    798     مصطفى زينهم علي احمد       Mi       Giza  2544305       903\n",
       "130   724          احمد مصطفي نظيم       Mi   Ismailia  2302769       760\n",
       "186   655          محمود احمد يوسف       Mi      Smoha  1126729       394\n",
       "58    836    محمد ممدوح عبدالرحمن-    Tecno  Bani Swif    50005       129"
      ]
     },
     "execution_count": 6,
     "metadata": {},
     "output_type": "execute_result"
    }
   ],
   "source": [
    "sales.sample(10)"
   ]
  },
  {
   "cell_type": "code",
   "execution_count": 7,
   "metadata": {},
   "outputs": [
    {
     "data": {
      "text/plain": [
       "array(['Samsung', 'Mi', 'Tecno'], dtype=object)"
      ]
     },
     "execution_count": 7,
     "metadata": {},
     "output_type": "execute_result"
    }
   ],
   "source": [
    "sales['Brand'].unique()"
   ]
  },
  {
   "cell_type": "code",
   "execution_count": 8,
   "metadata": {},
   "outputs": [
    {
     "data": {
      "text/plain": [
       "Mi         84\n",
       "Tecno      80\n",
       "Samsung    61\n",
       "Name: Brand, dtype: int64"
      ]
     },
     "execution_count": 8,
     "metadata": {},
     "output_type": "execute_result"
    }
   ],
   "source": [
    "sales.Brand.value_counts()"
   ]
  },
  {
   "cell_type": "code",
   "execution_count": 9,
   "metadata": {},
   "outputs": [
    {
     "data": {
      "image/png": "[encoded data removed]",
      "text/plain": [
       "<Figure size 864x576 with 1 Axes>"
      ]
     },
     "metadata": {
      "needs_background": "light"
     },
     "output_type": "display_data"
    }
   ],
   "source": [
    "plt.figure(figsize= (12, 8))\n",
    "sales['Brand'].value_counts().plot(kind='bar')\n",
    "plt.title('Net Sales per item by quantity', fontsize=15)\n",
    "\n",
    "plt.xlabel('Item', fontsize=12)\n",
    "plt.ylabel('Quantity', fontsize=12)\n",
    "plt.show()\n"
   ]
  },
  {
   "cell_type": "code",
   "execution_count": 11,
   "metadata": {},
   "outputs": [
    {
     "data": {
      "text/plain": [
       "<matplotlib.axes._subplots.AxesSubplot at 0x27663019fc8>"
      ]
     },
     "execution_count": 11,
     "metadata": {},
     "output_type": "execute_result"
    },
    {
     "data": {
      "image/png": "[encoded data removed]",
      "text/plain": [
       "<Figure size 864x576 with 1 Axes>"
      ]
     },
     "metadata": {
      "needs_background": "light"
     },
     "output_type": "display_data"
    }
   ],
   "source": [
    "plt.figure(figsize= (12, 8))\n",
    "sales[['Quantity']].boxplot()"
   ]
  },
  {
   "cell_type": "code",
   "execution_count": 12,
   "metadata": {},
   "outputs": [
    {
     "data": {
      "image/png": "[encoded data removed]",
      "text/plain": [
       "<Figure size 864x576 with 1 Axes>"
      ]
     },
     "metadata": {
      "needs_background": "light"
     },
     "output_type": "display_data"
    }
   ],
   "source": [
    "sales.boxplot(by = 'Brand', column=['Quantity'], grid=False, figsize=(12, 8))\n",
    "plt.show()"
   ]
  },
  {
   "cell_type": "code",
   "execution_count": 13,
   "metadata": {},
   "outputs": [
    {
     "data": {
      "image/png": "[encoded data removed]",
      "text/plain": [
       "<Figure size 864x576 with 1 Axes>"
      ]
     },
     "metadata": {
      "needs_background": "light"
     },
     "output_type": "display_data"
    }
   ],
   "source": [
    "plt.figure(figsize=(12, 8))\n",
    "\n",
    "sns.swarmplot(x='Brand', y='Quantity', data=sales)\n",
    "\n",
    "plt.title('Sales per item by quantity', fontsize=15)\n",
    "\n",
    "plt.xlabel('Item', fontsize=12)\n",
    "plt.ylabel('Quantity Sold', fontsize=12)\n",
    "plt.show()"
   ]
  },
  {
   "cell_type": "code",
   "execution_count": 14,
   "metadata": {},
   "outputs": [],
   "source": [
    "from sklearn.preprocessing import LabelEncoder"
   ]
  },
  {
   "cell_type": "code",
   "execution_count": 15,
   "metadata": {},
   "outputs": [],
   "source": [
    "label_encoder = LabelEncoder()"
   ]
  },
  {
   "cell_type": "code",
   "execution_count": 45,
   "metadata": {},
   "outputs": [
    {
     "data": {
      "text/plain": [
       "0      1\n",
       "1      1\n",
       "2      0\n",
       "3      0\n",
       "4      0\n",
       "      ..\n",
       "220    0\n",
       "221    0\n",
       "222    2\n",
       "223    2\n",
       "224    2\n",
       "Name: Brand, Length: 225, dtype: int32"
      ]
     },
     "execution_count": 45,
     "metadata": {},
     "output_type": "execute_result"
    }
   ],
   "source": [
    "sales['Brand']"
   ]
  },
  {
   "cell_type": "code",
   "execution_count": 46,
   "metadata": {},
   "outputs": [
    {
     "data": {
      "text/html": [
       "<div>\n",
       "<style scoped>\n",
       "    .dataframe tbody tr th:only-of-type {\n",
       "        vertical-align: middle;\n",
       "    }\n",
       "\n",
       "    .dataframe tbody tr th {\n",
       "        vertical-align: top;\n",
       "    }\n",
       "\n",
       "    .dataframe thead th {\n",
       "        text-align: right;\n",
       "    }\n",
       "</style>\n",
       "<table border=\"1\" class=\"dataframe\">\n",
       "  <thead>\n",
       "    <tr style=\"text-align: right;\">\n",
       "      <th></th>\n",
       "      <th>Code</th>\n",
       "      <th>Name</th>\n",
       "      <th>Brand</th>\n",
       "      <th>Branch</th>\n",
       "      <th>Amount</th>\n",
       "      <th>Quantity</th>\n",
       "    </tr>\n",
       "  </thead>\n",
       "  <tbody>\n",
       "    <tr>\n",
       "      <th>0</th>\n",
       "      <td>603</td>\n",
       "      <td>عمرو احمد محمود</td>\n",
       "      <td>1</td>\n",
       "      <td>Abdel Aziz</td>\n",
       "      <td>938220</td>\n",
       "      <td>287</td>\n",
       "    </tr>\n",
       "    <tr>\n",
       "      <th>1</th>\n",
       "      <td>853</td>\n",
       "      <td>نادر صفى الدين - عبدا</td>\n",
       "      <td>1</td>\n",
       "      <td>Abdel Aziz</td>\n",
       "      <td>69875620</td>\n",
       "      <td>22861</td>\n",
       "    </tr>\n",
       "    <tr>\n",
       "      <th>2</th>\n",
       "      <td>84</td>\n",
       "      <td>عمرو حسين</td>\n",
       "      <td>0</td>\n",
       "      <td>Abdel Aziz</td>\n",
       "      <td>13629849</td>\n",
       "      <td>4469</td>\n",
       "    </tr>\n",
       "    <tr>\n",
       "      <th>3</th>\n",
       "      <td>152</td>\n",
       "      <td>محمود محمد</td>\n",
       "      <td>0</td>\n",
       "      <td>Abdel Aziz</td>\n",
       "      <td>12338315</td>\n",
       "      <td>3790</td>\n",
       "    </tr>\n",
       "    <tr>\n",
       "      <th>4</th>\n",
       "      <td>291</td>\n",
       "      <td>ابراهيم نوح عبد المجي</td>\n",
       "      <td>0</td>\n",
       "      <td>Abdel Aziz</td>\n",
       "      <td>19520449</td>\n",
       "      <td>6876</td>\n",
       "    </tr>\n",
       "  </tbody>\n",
       "</table>\n",
       "</div>"
      ],
      "text/plain": [
       "   Code                     Name  Brand      Branch    Amount  Quantity\n",
       "0   603          عمرو احمد محمود      1  Abdel Aziz    938220       287\n",
       "1   853    نادر صفى الدين - عبدا      1  Abdel Aziz  69875620     22861\n",
       "2    84                عمرو حسين      0  Abdel Aziz  13629849      4469\n",
       "3   152               محمود محمد      0  Abdel Aziz  12338315      3790\n",
       "4   291    ابراهيم نوح عبد المجي      0  Abdel Aziz  19520449      6876"
      ]
     },
     "execution_count": 46,
     "metadata": {},
     "output_type": "execute_result"
    }
   ],
   "source": [
    "sales.head()"
   ]
  },
  {
   "cell_type": "code",
   "execution_count": 19,
   "metadata": {},
   "outputs": [
    {
     "data": {
      "text/html": [
       "<div>\n",
       "<style scoped>\n",
       "    .dataframe tbody tr th:only-of-type {\n",
       "        vertical-align: middle;\n",
       "    }\n",
       "\n",
       "    .dataframe tbody tr th {\n",
       "        vertical-align: top;\n",
       "    }\n",
       "\n",
       "    .dataframe thead th {\n",
       "        text-align: right;\n",
       "    }\n",
       "</style>\n",
       "<table border=\"1\" class=\"dataframe\">\n",
       "  <thead>\n",
       "    <tr style=\"text-align: right;\">\n",
       "      <th></th>\n",
       "      <th>Code</th>\n",
       "      <th>Brand</th>\n",
       "      <th>Amount</th>\n",
       "      <th>Quantity</th>\n",
       "      <th>Name_   اشرف محمد ابراهيم كم</th>\n",
       "      <th>Name_  ابراهيم محمود نصر</th>\n",
       "      <th>Name_  ابراهيم نوح عبد المجي</th>\n",
       "      <th>Name_  احمد ابراهيم عبد الوه</th>\n",
       "      <th>Name_  احمد السيد عبد الفتاح احم</th>\n",
       "      <th>Name_  احمد الهامي احمد محمد</th>\n",
       "      <th>...</th>\n",
       "      <th>Branch_Behira</th>\n",
       "      <th>Branch_Giza</th>\n",
       "      <th>Branch_Golf</th>\n",
       "      <th>Branch_Ismailia</th>\n",
       "      <th>Branch_Ismailia Samsung</th>\n",
       "      <th>Branch_Mansoura</th>\n",
       "      <th>Branch_Qena</th>\n",
       "      <th>Branch_Smoha</th>\n",
       "      <th>Branch_Tanta</th>\n",
       "      <th>Branch_Zakazik</th>\n",
       "    </tr>\n",
       "  </thead>\n",
       "  <tbody>\n",
       "    <tr>\n",
       "      <th>0</th>\n",
       "      <td>603</td>\n",
       "      <td>1</td>\n",
       "      <td>938220</td>\n",
       "      <td>287</td>\n",
       "      <td>0</td>\n",
       "      <td>0</td>\n",
       "      <td>0</td>\n",
       "      <td>0</td>\n",
       "      <td>0</td>\n",
       "      <td>0</td>\n",
       "      <td>...</td>\n",
       "      <td>0</td>\n",
       "      <td>0</td>\n",
       "      <td>0</td>\n",
       "      <td>0</td>\n",
       "      <td>0</td>\n",
       "      <td>0</td>\n",
       "      <td>0</td>\n",
       "      <td>0</td>\n",
       "      <td>0</td>\n",
       "      <td>0</td>\n",
       "    </tr>\n",
       "    <tr>\n",
       "      <th>1</th>\n",
       "      <td>853</td>\n",
       "      <td>1</td>\n",
       "      <td>69875620</td>\n",
       "      <td>22861</td>\n",
       "      <td>0</td>\n",
       "      <td>0</td>\n",
       "      <td>0</td>\n",
       "      <td>0</td>\n",
       "      <td>0</td>\n",
       "      <td>0</td>\n",
       "      <td>...</td>\n",
       "      <td>0</td>\n",
       "      <td>0</td>\n",
       "      <td>0</td>\n",
       "      <td>0</td>\n",
       "      <td>0</td>\n",
       "      <td>0</td>\n",
       "      <td>0</td>\n",
       "      <td>0</td>\n",
       "      <td>0</td>\n",
       "      <td>0</td>\n",
       "    </tr>\n",
       "    <tr>\n",
       "      <th>2</th>\n",
       "      <td>84</td>\n",
       "      <td>0</td>\n",
       "      <td>13629849</td>\n",
       "      <td>4469</td>\n",
       "      <td>0</td>\n",
       "      <td>0</td>\n",
       "      <td>0</td>\n",
       "      <td>0</td>\n",
       "      <td>0</td>\n",
       "      <td>0</td>\n",
       "      <td>...</td>\n",
       "      <td>0</td>\n",
       "      <td>0</td>\n",
       "      <td>0</td>\n",
       "      <td>0</td>\n",
       "      <td>0</td>\n",
       "      <td>0</td>\n",
       "      <td>0</td>\n",
       "      <td>0</td>\n",
       "      <td>0</td>\n",
       "      <td>0</td>\n",
       "    </tr>\n",
       "    <tr>\n",
       "      <th>3</th>\n",
       "      <td>152</td>\n",
       "      <td>0</td>\n",
       "      <td>12338315</td>\n",
       "      <td>3790</td>\n",
       "      <td>0</td>\n",
       "      <td>0</td>\n",
       "      <td>0</td>\n",
       "      <td>0</td>\n",
       "      <td>0</td>\n",
       "      <td>0</td>\n",
       "      <td>...</td>\n",
       "      <td>0</td>\n",
       "      <td>0</td>\n",
       "      <td>0</td>\n",
       "      <td>0</td>\n",
       "      <td>0</td>\n",
       "      <td>0</td>\n",
       "      <td>0</td>\n",
       "      <td>0</td>\n",
       "      <td>0</td>\n",
       "      <td>0</td>\n",
       "    </tr>\n",
       "    <tr>\n",
       "      <th>4</th>\n",
       "      <td>291</td>\n",
       "      <td>0</td>\n",
       "      <td>19520449</td>\n",
       "      <td>6876</td>\n",
       "      <td>0</td>\n",
       "      <td>0</td>\n",
       "      <td>1</td>\n",
       "      <td>0</td>\n",
       "      <td>0</td>\n",
       "      <td>0</td>\n",
       "      <td>...</td>\n",
       "      <td>0</td>\n",
       "      <td>0</td>\n",
       "      <td>0</td>\n",
       "      <td>0</td>\n",
       "      <td>0</td>\n",
       "      <td>0</td>\n",
       "      <td>0</td>\n",
       "      <td>0</td>\n",
       "      <td>0</td>\n",
       "      <td>0</td>\n",
       "    </tr>\n",
       "  </tbody>\n",
       "</table>\n",
       "<p>5 rows × 119 columns</p>\n",
       "</div>"
      ],
      "text/plain": [
       "   Code  Brand    Amount  Quantity  Name_   اشرف محمد ابراهيم كم  \\\n",
       "0   603      1    938220       287                             0   \n",
       "1   853      1  69875620     22861                             0   \n",
       "2    84      0  13629849      4469                             0   \n",
       "3   152      0  12338315      3790                             0   \n",
       "4   291      0  19520449      6876                             0   \n",
       "\n",
       "   Name_  ابراهيم محمود نصر  Name_  ابراهيم نوح عبد المجي  \\\n",
       "0                         0                             0   \n",
       "1                         0                             0   \n",
       "2                         0                             0   \n",
       "3                         0                             0   \n",
       "4                         0                             1   \n",
       "\n",
       "   Name_  احمد ابراهيم عبد الوه  Name_  احمد السيد عبد الفتاح احم  \\\n",
       "0                             0                                 0   \n",
       "1                             0                                 0   \n",
       "2                             0                                 0   \n",
       "3                             0                                 0   \n",
       "4                             0                                 0   \n",
       "\n",
       "   Name_  احمد الهامي احمد محمد  ...  Branch_Behira  Branch_Giza  Branch_Golf  \\\n",
       "0                             0  ...              0            0            0   \n",
       "1                             0  ...              0            0            0   \n",
       "2                             0  ...              0            0            0   \n",
       "3                             0  ...              0            0            0   \n",
       "4                             0  ...              0            0            0   \n",
       "\n",
       "   Branch_Ismailia  Branch_Ismailia Samsung  Branch_Mansoura  Branch_Qena  \\\n",
       "0                0                        0                0            0   \n",
       "1                0                        0                0            0   \n",
       "2                0                        0                0            0   \n",
       "3                0                        0                0            0   \n",
       "4                0                        0                0            0   \n",
       "\n",
       "   Branch_Smoha  Branch_Tanta  Branch_Zakazik  \n",
       "0             0             0               0  \n",
       "1             0             0               0  \n",
       "2             0             0               0  \n",
       "3             0             0               0  \n",
       "4             0             0               0  \n",
       "\n",
       "[5 rows x 119 columns]"
      ]
     },
     "execution_count": 19,
     "metadata": {},
     "output_type": "execute_result"
    }
   ],
   "source": [
    "dummy_sales = pd.get_dummies(sales)\n",
    "dummy_sales.head()"
   ]
  },
  {
   "cell_type": "code",
   "execution_count": 21,
   "metadata": {},
   "outputs": [
    {
     "data": {
      "image/png": "[encoded data removed]",
      "text/plain": [
       "<Figure size 864x576 with 1 Axes>"
      ]
     },
     "metadata": {
      "needs_background": "light"
     },
     "output_type": "display_data"
    }
   ],
   "source": [
    "plt.figure(figsize=(12, 8))\n",
    "\n",
    "sns.swarmplot(x='Brand', y='Amount', data=sales)\n",
    "\n",
    "plt.title('Sales', fontsize=15)\n",
    "\n",
    "plt.xlabel('Item', fontsize=12)\n",
    "plt.ylabel('Amount', fontsize=12)\n",
    "plt.show()"
   ]
  },
  {
   "cell_type": "code",
   "execution_count": 22,
   "metadata": {},
   "outputs": [
    {
     "data": {
      "text/plain": [
       "(225, 119)"
      ]
     },
     "execution_count": 22,
     "metadata": {},
     "output_type": "execute_result"
    }
   ],
   "source": [
    "dummy_sales.shape"
   ]
  },
  {
   "cell_type": "code",
   "execution_count": 23,
   "metadata": {},
   "outputs": [
    {
     "name": "stdout",
     "output_type": "stream",
     "text": [
      "Requirement already satisfied: ipywidgets in c:\\users\\ahmed gharib\\appdata\\local\\anaconda\\lib\\site-packages (7.5.1)\n",
      "Requirement already satisfied: nbformat>=4.2.0 in c:\\users\\ahmed gharib\\appdata\\local\\anaconda\\lib\\site-packages (from ipywidgets) (5.0.6)\n",
      "Requirement already satisfied: ipykernel>=4.5.1 in c:\\users\\ahmed gharib\\appdata\\local\\anaconda\\lib\\site-packages (from ipywidgets) (5.1.4)\n",
      "Requirement already satisfied: widgetsnbextension~=3.5.0 in c:\\users\\ahmed gharib\\appdata\\local\\anaconda\\lib\\site-packages (from ipywidgets) (3.5.1)\n",
      "Requirement already satisfied: ipython>=4.0.0; python_version >= \"3.3\" in c:\\users\\ahmed gharib\\appdata\\local\\anaconda\\lib\\site-packages (from ipywidgets) (7.13.0)\n",
      "Requirement already satisfied: traitlets>=4.3.1 in c:\\users\\ahmed gharib\\appdata\\local\\anaconda\\lib\\site-packages (from ipywidgets) (4.3.3)\n",
      "Requirement already satisfied: jupyter-core in c:\\users\\ahmed gharib\\appdata\\local\\anaconda\\lib\\site-packages (from nbformat>=4.2.0->ipywidgets) (4.6.3)\n",
      "Requirement already satisfied: ipython-genutils in c:\\users\\ahmed gharib\\appdata\\local\\anaconda\\lib\\site-packages (from nbformat>=4.2.0->ipywidgets) (0.2.0)\n",
      "Requirement already satisfied: jsonschema!=2.5.0,>=2.4 in c:\\users\\ahmed gharib\\appdata\\local\\anaconda\\lib\\site-packages (from nbformat>=4.2.0->ipywidgets) (3.2.0)\n",
      "Requirement already satisfied: tornado>=4.2 in c:\\users\\ahmed gharib\\appdata\\local\\anaconda\\lib\\site-packages (from ipykernel>=4.5.1->ipywidgets) (6.0.4)\n",
      "Requirement already satisfied: jupyter-client in c:\\users\\ahmed gharib\\appdata\\local\\anaconda\\lib\\site-packages (from ipykernel>=4.5.1->ipywidgets) (6.1.3)\n",
      "Requirement already satisfied: notebook>=4.4.1 in c:\\users\\ahmed gharib\\appdata\\local\\anaconda\\lib\\site-packages (from widgetsnbextension~=3.5.0->ipywidgets) (6.0.3)\n",
      "Requirement already satisfied: jedi>=0.10 in c:\\users\\ahmed gharib\\appdata\\local\\anaconda\\lib\\site-packages (from ipython>=4.0.0; python_version >= \"3.3\"->ipywidgets) (0.15.2)\n",
      "Requirement already satisfied: pickleshare in c:\\users\\ahmed gharib\\appdata\\local\\anaconda\\lib\\site-packages (from ipython>=4.0.0; python_version >= \"3.3\"->ipywidgets) (0.7.5)\n",
      "Requirement already satisfied: backcall in c:\\users\\ahmed gharib\\appdata\\local\\anaconda\\lib\\site-packages (from ipython>=4.0.0; python_version >= \"3.3\"->ipywidgets) (0.1.0)\n",
      "Requirement already satisfied: pygments in c:\\users\\ahmed gharib\\appdata\\local\\anaconda\\lib\\site-packages (from ipython>=4.0.0; python_version >= \"3.3\"->ipywidgets) (2.6.1)\n",
      "Requirement already satisfied: decorator in c:\\users\\ahmed gharib\\appdata\\local\\anaconda\\lib\\site-packages (from ipython>=4.0.0; python_version >= \"3.3\"->ipywidgets) (4.4.2)\n",
      "Requirement already satisfied: prompt-toolkit!=3.0.0,!=3.0.1,<3.1.0,>=2.0.0 in c:\\users\\ahmed gharib\\appdata\\local\\anaconda\\lib\\site-packages (from ipython>=4.0.0; python_version >= \"3.3\"->ipywidgets) (3.0.4)\n",
      "Requirement already satisfied: colorama; sys_platform == \"win32\" in c:\\users\\ahmed gharib\\appdata\\local\\anaconda\\lib\\site-packages (from ipython>=4.0.0; python_version >= \"3.3\"->ipywidgets) (0.4.3)\n",
      "Requirement already satisfied: setuptools>=18.5 in c:\\users\\ahmed gharib\\appdata\\local\\anaconda\\lib\\site-packages (from ipython>=4.0.0; python_version >= \"3.3\"->ipywidgets) (46.1.3.post20200330)\n",
      "Requirement already satisfied: six in c:\\users\\ahmed gharib\\appdata\\local\\anaconda\\lib\\site-packages (from traitlets>=4.3.1->ipywidgets) (1.14.0)\n",
      "Requirement already satisfied: pywin32>=1.0; sys_platform == \"win32\" in c:\\users\\ahmed gharib\\appdata\\local\\anaconda\\lib\\site-packages (from jupyter-core->nbformat>=4.2.0->ipywidgets) (227)\n",
      "Requirement already satisfied: attrs>=17.4.0 in c:\\users\\ahmed gharib\\appdata\\local\\anaconda\\lib\\site-packages (from jsonschema!=2.5.0,>=2.4->nbformat>=4.2.0->ipywidgets) (19.3.0)\n",
      "Requirement already satisfied: importlib-metadata; python_version < \"3.8\" in c:\\users\\ahmed gharib\\appdata\\local\\anaconda\\lib\\site-packages (from jsonschema!=2.5.0,>=2.4->nbformat>=4.2.0->ipywidgets) (1.5.0)\n",
      "Requirement already satisfied: pyrsistent>=0.14.0 in c:\\users\\ahmed gharib\\appdata\\local\\anaconda\\lib\\site-packages (from jsonschema!=2.5.0,>=2.4->nbformat>=4.2.0->ipywidgets) (0.16.0)\n",
      "Requirement already satisfied: pyzmq>=13 in c:\\users\\ahmed gharib\\appdata\\local\\anaconda\\lib\\site-packages (from jupyter-client->ipykernel>=4.5.1->ipywidgets) (18.1.1)\n",
      "Requirement already satisfied: python-dateutil>=2.1 in c:\\users\\ahmed gharib\\appdata\\local\\anaconda\\lib\\site-packages (from jupyter-client->ipykernel>=4.5.1->ipywidgets) (2.8.1)\n",
      "Requirement already satisfied: nbconvert in c:\\users\\ahmed gharib\\appdata\\local\\anaconda\\lib\\site-packages (from notebook>=4.4.1->widgetsnbextension~=3.5.0->ipywidgets) (5.6.1)\n",
      "Requirement already satisfied: terminado>=0.8.1 in c:\\users\\ahmed gharib\\appdata\\local\\anaconda\\lib\\site-packages (from notebook>=4.4.1->widgetsnbextension~=3.5.0->ipywidgets) (0.8.3)\n",
      "Requirement already satisfied: jinja2 in c:\\users\\ahmed gharib\\appdata\\local\\anaconda\\lib\\site-packages (from notebook>=4.4.1->widgetsnbextension~=3.5.0->ipywidgets) (2.11.2)\n",
      "Requirement already satisfied: prometheus-client in c:\\users\\ahmed gharib\\appdata\\local\\anaconda\\lib\\site-packages (from notebook>=4.4.1->widgetsnbextension~=3.5.0->ipywidgets) (0.7.1)\n",
      "Requirement already satisfied: Send2Trash in c:\\users\\ahmed gharib\\appdata\\local\\anaconda\\lib\\site-packages (from notebook>=4.4.1->widgetsnbextension~=3.5.0->ipywidgets) (1.5.0)\n",
      "Requirement already satisfied: parso>=0.5.2 in c:\\users\\ahmed gharib\\appdata\\local\\anaconda\\lib\\site-packages (from jedi>=0.10->ipython>=4.0.0; python_version >= \"3.3\"->ipywidgets) (0.5.2)\n",
      "Requirement already satisfied: wcwidth in c:\\users\\ahmed gharib\\appdata\\local\\anaconda\\lib\\site-packages (from prompt-toolkit!=3.0.0,!=3.0.1,<3.1.0,>=2.0.0->ipython>=4.0.0; python_version >= \"3.3\"->ipywidgets) (0.1.9)\n",
      "Requirement already satisfied: zipp>=0.5 in c:\\users\\ahmed gharib\\appdata\\local\\anaconda\\lib\\site-packages (from importlib-metadata; python_version < \"3.8\"->jsonschema!=2.5.0,>=2.4->nbformat>=4.2.0->ipywidgets) (3.1.0)\n",
      "Requirement already satisfied: entrypoints>=0.2.2 in c:\\users\\ahmed gharib\\appdata\\local\\anaconda\\lib\\site-packages (from nbconvert->notebook>=4.4.1->widgetsnbextension~=3.5.0->ipywidgets) (0.3)\n",
      "Requirement already satisfied: bleach in c:\\users\\ahmed gharib\\appdata\\local\\anaconda\\lib\\site-packages (from nbconvert->notebook>=4.4.1->widgetsnbextension~=3.5.0->ipywidgets) (3.1.4)\n",
      "Requirement already satisfied: mistune<2,>=0.8.1 in c:\\users\\ahmed gharib\\appdata\\local\\anaconda\\lib\\site-packages (from nbconvert->notebook>=4.4.1->widgetsnbextension~=3.5.0->ipywidgets) (0.8.4)\n",
      "Requirement already satisfied: pandocfilters>=1.4.1 in c:\\users\\ahmed gharib\\appdata\\local\\anaconda\\lib\\site-packages (from nbconvert->notebook>=4.4.1->widgetsnbextension~=3.5.0->ipywidgets) (1.4.2)\n",
      "Requirement already satisfied: testpath in c:\\users\\ahmed gharib\\appdata\\local\\anaconda\\lib\\site-packages (from nbconvert->notebook>=4.4.1->widgetsnbextension~=3.5.0->ipywidgets) (0.4.4)\n",
      "Requirement already satisfied: defusedxml in c:\\users\\ahmed gharib\\appdata\\local\\anaconda\\lib\\site-packages (from nbconvert->notebook>=4.4.1->widgetsnbextension~=3.5.0->ipywidgets) (0.6.0)\n",
      "Requirement already satisfied: MarkupSafe>=0.23 in c:\\users\\ahmed gharib\\appdata\\local\\anaconda\\lib\\site-packages (from jinja2->notebook>=4.4.1->widgetsnbextension~=3.5.0->ipywidgets) (1.1.1)\n",
      "Requirement already satisfied: webencodings in c:\\users\\ahmed gharib\\appdata\\local\\anaconda\\lib\\site-packages (from bleach->nbconvert->notebook>=4.4.1->widgetsnbextension~=3.5.0->ipywidgets) (0.5.1)\n"
     ]
    }
   ],
   "source": [
    "!pip install ipywidgets"
   ]
  },
  {
   "cell_type": "code",
   "execution_count": 24,
   "metadata": {},
   "outputs": [
    {
     "name": "stderr",
     "output_type": "stream",
     "text": [
      "Enabling notebook extension jupyter-js-widgets/extension...\n",
      "      - Validating: ok\n"
     ]
    }
   ],
   "source": [
    "!jupyter nbextension enable --py widgetsnbextension --sys-prefix"
   ]
  },
  {
   "cell_type": "code",
   "execution_count": 25,
   "metadata": {},
   "outputs": [],
   "source": [
    "from ipywidgets import interact, interactive, fixed, interact_manual\n",
    "import ipywidgets as widgets"
   ]
  },
  {
   "cell_type": "code",
   "execution_count": 26,
   "metadata": {},
   "outputs": [],
   "source": [
    "w = widgets.IntSlider(value=10,\n",
    "                     min=5,\n",
    "                     max=20,\n",
    "                     step=1,\n",
    "                     description='Range Slider',\n",
    "                     containues_update=False,\n",
    "                     orientation='horizontal')"
   ]
  },
  {
   "cell_type": "code",
   "execution_count": 27,
   "metadata": {},
   "outputs": [
    {
     "data": {
      "application/vnd.jupyter.widget-view+json": {
       "model_id": "dac2d6087e1844309d607d2c2c3d6343",
       "version_major": 2,
       "version_minor": 0
      },
      "text/plain": [
       "IntSlider(value=10, description='Range Slider', max=20, min=5)"
      ]
     },
     "metadata": {},
     "output_type": "display_data"
    }
   ],
   "source": [
    "w\n"
   ]
  },
  {
   "cell_type": "code",
   "execution_count": 29,
   "metadata": {},
   "outputs": [
    {
     "data": {
      "text/plain": [
       "17"
      ]
     },
     "execution_count": 29,
     "metadata": {},
     "output_type": "execute_result"
    }
   ],
   "source": [
    "w.value"
   ]
  },
  {
   "cell_type": "code",
   "execution_count": 30,
   "metadata": {},
   "outputs": [
    {
     "data": {
      "text/plain": [
       "ipywidgets.widgets.widget_int.IntSlider"
      ]
     },
     "execution_count": 30,
     "metadata": {},
     "output_type": "execute_result"
    }
   ],
   "source": [
    "type(w)"
   ]
  },
  {
   "cell_type": "code",
   "execution_count": 43,
   "metadata": {},
   "outputs": [],
   "source": [
    "r = widgets.IntRangeSlider(value=[10, 1000],\n",
    "                     min=0,\n",
    "                     max=10000,\n",
    "                     step=1,\n",
    "                     description='Amount Range',\n",
    "                     orientation='horizontal')"
   ]
  },
  {
   "cell_type": "code",
   "execution_count": 44,
   "metadata": {},
   "outputs": [
    {
     "data": {
      "application/vnd.jupyter.widget-view+json": {
       "model_id": "1a9d30add488491eb9936e48e76a0011",
       "version_major": 2,
       "version_minor": 0
      },
      "text/plain": [
       "IntRangeSlider(value=(10, 1000), description='Amount Range', max=100000)"
      ]
     },
     "metadata": {},
     "output_type": "display_data"
    }
   ],
   "source": [
    "r\n"
   ]
  },
  {
   "cell_type": "code",
   "execution_count": 48,
   "metadata": {},
   "outputs": [
    {
     "data": {
      "text/plain": [
       "(23962, 100000)"
      ]
     },
     "execution_count": 48,
     "metadata": {},
     "output_type": "execute_result"
    }
   ],
   "source": [
    "r.value\n"
   ]
  },
  {
   "cell_type": "code",
   "execution_count": 50,
   "metadata": {},
   "outputs": [],
   "source": [
    "p = widgets.IntProgress(value=70,\n",
    "                     min=0,\n",
    "                     max=100,\n",
    "                     step=1,\n",
    "                     description='Loading',\n",
    "                     bar_style='success',\n",
    "                     orientation='horizontal')"
   ]
  },
  {
   "cell_type": "code",
   "execution_count": 51,
   "metadata": {},
   "outputs": [
    {
     "data": {
      "application/vnd.jupyter.widget-view+json": {
       "model_id": "6822b329573645628981abf9b3064c59",
       "version_major": 2,
       "version_minor": 0
      },
      "text/plain": [
       "IntProgress(value=70, bar_style='success', description='Loading')"
      ]
     },
     "metadata": {},
     "output_type": "display_data"
    }
   ],
   "source": [
    "p"
   ]
  },
  {
   "cell_type": "code",
   "execution_count": 54,
   "metadata": {},
   "outputs": [],
   "source": [
    "import time\n",
    "\n",
    "for i in range(0, 110, 10):\n",
    "    p.value = i\n",
    "    \n",
    "    time.sleep(1)"
   ]
  },
  {
   "cell_type": "code",
   "execution_count": 55,
   "metadata": {},
   "outputs": [
    {
     "data": {
      "application/vnd.jupyter.widget-view+json": {
       "model_id": "ab1b34a3c03945bca44adee84e5de2cf",
       "version_major": 2,
       "version_minor": 0
      },
      "text/plain": [
       "BoundedIntText(value=5, description='Enter a Number')"
      ]
     },
     "metadata": {},
     "output_type": "display_data"
    }
   ],
   "source": [
    "t = widgets.BoundedIntText(value=5,\n",
    "                     min=0,\n",
    "                     max=100,\n",
    "                     step=1,\n",
    "                     description='Enter a Number',\n",
    "                     disabled=False)\n",
    "t"
   ]
  },
  {
   "cell_type": "code",
   "execution_count": 56,
   "metadata": {},
   "outputs": [
    {
     "data": {
      "text/plain": [
       "23"
      ]
     },
     "execution_count": 56,
     "metadata": {},
     "output_type": "execute_result"
    }
   ],
   "source": [
    "t.value"
   ]
  },
  {
   "cell_type": "code",
   "execution_count": 57,
   "metadata": {},
   "outputs": [
    {
     "data": {
      "application/vnd.jupyter.widget-view+json": {
       "model_id": "3e17bb7045a4485d81241f285a6aaff4",
       "version_major": 2,
       "version_minor": 0
      },
      "text/plain": [
       "Checkbox(value=False, description='Check Me')"
      ]
     },
     "metadata": {},
     "output_type": "display_data"
    }
   ],
   "source": [
    "widgets.Checkbox(value=False,\n",
    "                description='Check Me')"
   ]
  },
  {
   "cell_type": "code",
   "execution_count": 58,
   "metadata": {},
   "outputs": [],
   "source": [
    "dd = widgets.Dropdown(options=['None', '0', '1', '2', '3', '4'],\n",
    "                     value='None',\n",
    "                     description='Number',\n",
    "                     disabled=False)"
   ]
  },
  {
   "cell_type": "code",
   "execution_count": 59,
   "metadata": {},
   "outputs": [
    {
     "data": {
      "application/vnd.jupyter.widget-view+json": {
       "model_id": "d6c240ad772745afb41838610d760f26",
       "version_major": 2,
       "version_minor": 0
      },
      "text/plain": [
       "Dropdown(description='Number', options=('None', '0', '1', '2', '3', '4'), value='None')"
      ]
     },
     "metadata": {},
     "output_type": "display_data"
    }
   ],
   "source": [
    "dd\n"
   ]
  },
  {
   "cell_type": "code",
   "execution_count": 61,
   "metadata": {},
   "outputs": [],
   "source": [
    "rb = widgets.RadioButtons(options=['Samsuns', 'Mi', 'Tecno'],\n",
    "                         description='Brand')"
   ]
  },
  {
   "cell_type": "code",
   "execution_count": 62,
   "metadata": {},
   "outputs": [
    {
     "data": {
      "application/vnd.jupyter.widget-view+json": {
       "model_id": "29d737d528f042aeaf09e10a8d8f764a",
       "version_major": 2,
       "version_minor": 0
      },
      "text/plain": [
       "RadioButtons(description='Brand', options=('Samsuns', 'Mi', 'Tecno'), value='Samsuns')"
      ]
     },
     "metadata": {},
     "output_type": "display_data"
    }
   ],
   "source": [
    "rb"
   ]
  },
  {
   "cell_type": "code",
   "execution_count": 63,
   "metadata": {},
   "outputs": [],
   "source": [
    "button = widgets.Button(description='Click Here',\n",
    "                       button_style='success',\n",
    "                       tooltip='Click ya prince',\n",
    "                       icon='Check')"
   ]
  },
  {
   "cell_type": "code",
   "execution_count": 64,
   "metadata": {},
   "outputs": [],
   "source": [
    "def button_click(button):\n",
    "    print('You clicked 3ash yasta 3ash')\n",
    "    print(button.description)"
   ]
  },
  {
   "cell_type": "code",
   "execution_count": 65,
   "metadata": {},
   "outputs": [],
   "source": [
    "button.on_click(button_click)"
   ]
  },
  {
   "cell_type": "code",
   "execution_count": 66,
   "metadata": {},
   "outputs": [
    {
     "data": {
      "application/vnd.jupyter.widget-view+json": {
       "model_id": "d464cff156c44e1196fc19c873311b4a",
       "version_major": 2,
       "version_minor": 0
      },
      "text/plain": [
       "Button(button_style='success', description='Click Here', icon='Check', style=ButtonStyle(), tooltip='Click ya …"
      ]
     },
     "metadata": {},
     "output_type": "display_data"
    },
    {
     "name": "stdout",
     "output_type": "stream",
     "text": [
      "You clicked 3ash yasta 3ash\n",
      "Click Here\n",
      "You clicked 3ash yasta 3ash\n",
      "Click Here\n"
     ]
    }
   ],
   "source": [
    "button"
   ]
  },
  {
   "cell_type": "code",
   "execution_count": 70,
   "metadata": {},
   "outputs": [
    {
     "data": {
      "application/vnd.jupyter.widget-view+json": {
       "model_id": "c848837e4ae1408d81eec4d5580e91b4",
       "version_major": 2,
       "version_minor": 0
      },
      "text/plain": [
       "HBox(children=(Play(value=50, description='Press Play'), IntSlider(value=0), IntProgress(value=0)))"
      ]
     },
     "metadata": {},
     "output_type": "display_data"
    }
   ],
   "source": [
    "play = widgets.Play(value=50,\n",
    "                   min=0,\n",
    "                   max=100,\n",
    "                   step=1,\n",
    "                   description='Press Play')\n",
    "\n",
    "slider = widgets.IntSlider()\n",
    "\n",
    "p = widgets.IntProgress()\n",
    "\n",
    "widgets.jslink((play, 'value'), (p, 'value'))\n",
    "widgets.jslink((play, 'value'), (slider, 'value'))\n",
    "\n",
    "widgets.HBox([play, slider, p])\n"
   ]
  },
  {
   "cell_type": "code",
   "execution_count": 73,
   "metadata": {},
   "outputs": [],
   "source": [
    "def f(m, b):\n",
    "    plt.figure()\n",
    "    \n",
    "    x = np.linspace(-10, 10, num=1000)\n",
    "    \n",
    "    plt.plot(x, m * x + b)\n",
    "    \n",
    "    plt.ylim(-5, 5)\n",
    "    plt.show()\n",
    "    \n",
    "interactive_plot = interactive(f, m=(-2.0, 2.0), b=(-3, 3, 0.5))\n",
    "    "
   ]
  },
  {
   "cell_type": "code",
   "execution_count": 74,
   "metadata": {},
   "outputs": [
    {
     "data": {
      "application/vnd.jupyter.widget-view+json": {
       "model_id": "e5a09c69d19e46a6a971b3a5b803e471",
       "version_major": 2,
       "version_minor": 0
      },
      "text/plain": [
       "interactive(children=(FloatSlider(value=0.0, description='m', max=2.0, min=-2.0), FloatSlider(value=0.0, descr…"
      ]
     },
     "metadata": {},
     "output_type": "display_data"
    }
   ],
   "source": [
    "interactive_plot\n"
   ]
  },
  {
   "cell_type": "code",
   "execution_count": 75,
   "metadata": {},
   "outputs": [
    {
     "data": {
      "application/vnd.jupyter.widget-view+json": {
       "model_id": "e5a09c69d19e46a6a971b3a5b803e471",
       "version_major": 2,
       "version_minor": 0
      },
      "text/plain": [
       "interactive(children=(FloatSlider(value=0.3, description='m', max=2.0, min=-2.0), FloatSlider(value=-3.0, desc…"
      ]
     },
     "metadata": {},
     "output_type": "display_data"
    }
   ],
   "source": [
    "output = interactive_plot.children[-1]\n",
    "output.layout.height = '350px'\n",
    "interactive_plot"
   ]
  },
  {
   "cell_type": "code",
   "execution_count": 76,
   "metadata": {},
   "outputs": [
    {
     "data": {
      "application/vnd.jupyter.widget-view+json": {
       "model_id": "98c2d9288124456aa0586e3a3693fdb0",
       "version_major": 2,
       "version_minor": 0
      },
      "text/plain": [
       "Text(value='')"
      ]
     },
     "metadata": {},
     "output_type": "display_data"
    },
    {
     "name": "stdout",
     "output_type": "stream",
     "text": [
      "AHMED ABDEL MONIEM\n"
     ]
    }
   ],
   "source": [
    "from IPython.display import display\n",
    "\n",
    "text = widgets.Text()\n",
    "display(text)\n",
    "\n",
    "def make_upper_case(input_text):\n",
    "    text.value = input_text.value.upper()\n",
    "    \n",
    "    print (text.value)\n",
    "    \n",
    "text.on_submit(make_upper_case)"
   ]
  },
  {
   "cell_type": "code",
   "execution_count": 77,
   "metadata": {},
   "outputs": [],
   "source": [
    "sales = pd.read_csv('sales.csv')"
   ]
  },
  {
   "cell_type": "code",
   "execution_count": 78,
   "metadata": {},
   "outputs": [
    {
     "data": {
      "text/html": [
       "<div>\n",
       "<style scoped>\n",
       "    .dataframe tbody tr th:only-of-type {\n",
       "        vertical-align: middle;\n",
       "    }\n",
       "\n",
       "    .dataframe tbody tr th {\n",
       "        vertical-align: top;\n",
       "    }\n",
       "\n",
       "    .dataframe thead th {\n",
       "        text-align: right;\n",
       "    }\n",
       "</style>\n",
       "<table border=\"1\" class=\"dataframe\">\n",
       "  <thead>\n",
       "    <tr style=\"text-align: right;\">\n",
       "      <th></th>\n",
       "      <th>Code</th>\n",
       "      <th>Name</th>\n",
       "      <th>Brand</th>\n",
       "      <th>Branch</th>\n",
       "      <th>Amount</th>\n",
       "      <th>Quantity</th>\n",
       "    </tr>\n",
       "  </thead>\n",
       "  <tbody>\n",
       "    <tr>\n",
       "      <th>0</th>\n",
       "      <td>603</td>\n",
       "      <td>عمرو احمد محمود</td>\n",
       "      <td>Samsung</td>\n",
       "      <td>Abdel Aziz</td>\n",
       "      <td>938220</td>\n",
       "      <td>287</td>\n",
       "    </tr>\n",
       "    <tr>\n",
       "      <th>1</th>\n",
       "      <td>853</td>\n",
       "      <td>نادر صفى الدين - عبدا</td>\n",
       "      <td>Samsung</td>\n",
       "      <td>Abdel Aziz</td>\n",
       "      <td>69875620</td>\n",
       "      <td>22861</td>\n",
       "    </tr>\n",
       "    <tr>\n",
       "      <th>2</th>\n",
       "      <td>84</td>\n",
       "      <td>عمرو حسين</td>\n",
       "      <td>Mi</td>\n",
       "      <td>Abdel Aziz</td>\n",
       "      <td>13629849</td>\n",
       "      <td>4469</td>\n",
       "    </tr>\n",
       "    <tr>\n",
       "      <th>3</th>\n",
       "      <td>152</td>\n",
       "      <td>محمود محمد</td>\n",
       "      <td>Mi</td>\n",
       "      <td>Abdel Aziz</td>\n",
       "      <td>12338315</td>\n",
       "      <td>3790</td>\n",
       "    </tr>\n",
       "    <tr>\n",
       "      <th>4</th>\n",
       "      <td>291</td>\n",
       "      <td>ابراهيم نوح عبد المجي</td>\n",
       "      <td>Mi</td>\n",
       "      <td>Abdel Aziz</td>\n",
       "      <td>19520449</td>\n",
       "      <td>6876</td>\n",
       "    </tr>\n",
       "  </tbody>\n",
       "</table>\n",
       "</div>"
      ],
      "text/plain": [
       "   Code                     Name    Brand      Branch    Amount  Quantity\n",
       "0   603          عمرو احمد محمود  Samsung  Abdel Aziz    938220       287\n",
       "1   853    نادر صفى الدين - عبدا  Samsung  Abdel Aziz  69875620     22861\n",
       "2    84                عمرو حسين       Mi  Abdel Aziz  13629849      4469\n",
       "3   152               محمود محمد       Mi  Abdel Aziz  12338315      3790\n",
       "4   291    ابراهيم نوح عبد المجي       Mi  Abdel Aziz  19520449      6876"
      ]
     },
     "execution_count": 78,
     "metadata": {},
     "output_type": "execute_result"
    }
   ],
   "source": [
    "sales.head()"
   ]
  },
  {
   "cell_type": "code",
   "execution_count": 103,
   "metadata": {},
   "outputs": [
    {
     "data": {
      "application/vnd.jupyter.widget-view+json": {
       "model_id": "60cf18ea65394a379f871fbe5bc8fa38",
       "version_major": 2,
       "version_minor": 0
      },
      "text/plain": [
       "interactive(children=(Text(value='Quantity', description='column'), IntSlider(value=1000, description='x', max…"
      ]
     },
     "metadata": {},
     "output_type": "display_data"
    }
   ],
   "source": [
    "@interact\n",
    "def show_brand_data(column = 'Quantity', x=1000, column2 = 'Brand', name=['Mi', 'Samsung', 'Tecno']):\n",
    "    return sales.loc[(sales[column2] == name) & (sales[column] > x)]"
   ]
  },
  {
   "cell_type": "code",
   "execution_count": 104,
   "metadata": {},
   "outputs": [
    {
     "data": {
      "application/vnd.jupyter.widget-view+json": {
       "model_id": "fccec76c95a3498caa08cbe5dbe8497c",
       "version_major": 2,
       "version_minor": 0
      },
      "text/plain": [
       "interactive(children=(Dropdown(description='file', options=('3122404 - addiction cigarette.png', '3122405 - ad…"
      ]
     },
     "metadata": {},
     "output_type": "display_data"
    }
   ],
   "source": [
    "from IPython.display import Image\n",
    "import os\n",
    "\n",
    "fdir = '256/'\n",
    "\n",
    "@interact\n",
    "def show_images(file= os.listdir(fdir)):\n",
    "    display(Image(fdir + file))\n",
    "    "
   ]
  },
  {
   "cell_type": "code",
   "execution_count": null,
   "metadata": {},
   "outputs": [],
   "source": []
  }
 ],
 "metadata": {
  "kernelspec": {
   "display_name": "Python 3",
   "language": "python",
   "name": "python3"
  },
  "language_info": {
   "codemirror_mode": {
    "name": "ipython",
    "version": 3
   },
   "file_extension": ".py",
   "mimetype": "text/x-python",
   "name": "python",
   "nbconvert_exporter": "python",
   "pygments_lexer": "ipython3",
   "version": "3.7.6"
  }
 },
 "nbformat": 4,
 "nbformat_minor": 4
}
